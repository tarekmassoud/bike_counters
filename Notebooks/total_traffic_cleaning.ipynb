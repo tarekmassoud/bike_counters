{
 "cells": [
  {
   "cell_type": "markdown",
   "metadata": {},
   "source": [
    "# **<u>Cleaning the total traffic data:</u>**"
   ]
  },
  {
   "cell_type": "code",
   "execution_count": 1,
   "metadata": {},
   "outputs": [],
   "source": [
    "import pandas as pd"
   ]
  },
  {
   "cell_type": "markdown",
   "metadata": {},
   "source": [
    "## **<u>Loading the data using Pandas:</u>**"
   ]
  },
  {
   "cell_type": "code",
   "execution_count": 205,
   "metadata": {},
   "outputs": [],
   "source": [
    "df = pd.read_csv('../external_data/comptage-multimodal-comptages.csv', sep=';')"
   ]
  },
  {
   "cell_type": "code",
   "execution_count": 206,
   "metadata": {},
   "outputs": [
    {
     "data": {
      "text/plain": [
       "(556776, 10)"
      ]
     },
     "execution_count": 206,
     "metadata": {},
     "output_type": "execute_result"
    }
   ],
   "source": [
    "df.shape"
   ]
  },
  {
   "cell_type": "code",
   "execution_count": 207,
   "metadata": {},
   "outputs": [
    {
     "data": {
      "text/html": [
       "<div>\n",
       "<style scoped>\n",
       "    .dataframe tbody tr th:only-of-type {\n",
       "        vertical-align: middle;\n",
       "    }\n",
       "\n",
       "    .dataframe tbody tr th {\n",
       "        vertical-align: top;\n",
       "    }\n",
       "\n",
       "    .dataframe thead th {\n",
       "        text-align: right;\n",
       "    }\n",
       "</style>\n",
       "<table border=\"1\" class=\"dataframe\">\n",
       "  <thead>\n",
       "    <tr style=\"text-align: right;\">\n",
       "      <th></th>\n",
       "      <th>Identifiant trajectoire</th>\n",
       "      <th>Identifiant site</th>\n",
       "      <th>Nom du site</th>\n",
       "      <th>Date et heure de comptage</th>\n",
       "      <th>Mode déplacement</th>\n",
       "      <th>Nombre de véhicules</th>\n",
       "      <th>Type voie</th>\n",
       "      <th>Sens de circulation</th>\n",
       "      <th>Trajectoire</th>\n",
       "      <th>Coordonnées Géo</th>\n",
       "    </tr>\n",
       "  </thead>\n",
       "  <tbody>\n",
       "    <tr>\n",
       "      <th>0</th>\n",
       "      <td>10004_2 -&gt; 1</td>\n",
       "      <td>10004</td>\n",
       "      <td>[Paris] Rivoli x Nicolas Flamel</td>\n",
       "      <td>2021-08-17T02:00:00+02:00</td>\n",
       "      <td>Vélos</td>\n",
       "      <td>6</td>\n",
       "      <td>Piste cyclable</td>\n",
       "      <td>E-O</td>\n",
       "      <td>2 -&gt; 1</td>\n",
       "      <td>48.858273, 2.349109</td>\n",
       "    </tr>\n",
       "    <tr>\n",
       "      <th>1</th>\n",
       "      <td>10004_5 -&gt; 3</td>\n",
       "      <td>10004</td>\n",
       "      <td>[Paris] Rivoli x Nicolas Flamel</td>\n",
       "      <td>2021-08-17T02:00:00+02:00</td>\n",
       "      <td>Vélos</td>\n",
       "      <td>3</td>\n",
       "      <td>Voie de circulation générale</td>\n",
       "      <td>E-O</td>\n",
       "      <td>5 -&gt; 3</td>\n",
       "      <td>48.858273, 2.349109</td>\n",
       "    </tr>\n",
       "    <tr>\n",
       "      <th>2</th>\n",
       "      <td>10004_5 -&gt; 3</td>\n",
       "      <td>10004</td>\n",
       "      <td>[Paris] Rivoli x Nicolas Flamel</td>\n",
       "      <td>2021-08-17T03:00:00+02:00</td>\n",
       "      <td>2 roues motorisées</td>\n",
       "      <td>4</td>\n",
       "      <td>Voie de circulation générale</td>\n",
       "      <td>E-O</td>\n",
       "      <td>5 -&gt; 3</td>\n",
       "      <td>48.858273, 2.349109</td>\n",
       "    </tr>\n",
       "    <tr>\n",
       "      <th>3</th>\n",
       "      <td>10004_2 -&gt; 1</td>\n",
       "      <td>10004</td>\n",
       "      <td>[Paris] Rivoli x Nicolas Flamel</td>\n",
       "      <td>2021-08-17T04:00:00+02:00</td>\n",
       "      <td>Vélos</td>\n",
       "      <td>5</td>\n",
       "      <td>Piste cyclable</td>\n",
       "      <td>E-O</td>\n",
       "      <td>2 -&gt; 1</td>\n",
       "      <td>48.858273, 2.349109</td>\n",
       "    </tr>\n",
       "    <tr>\n",
       "      <th>4</th>\n",
       "      <td>10004_4 -&gt; 2</td>\n",
       "      <td>10004</td>\n",
       "      <td>[Paris] Rivoli x Nicolas Flamel</td>\n",
       "      <td>2021-08-17T04:00:00+02:00</td>\n",
       "      <td>Vélos</td>\n",
       "      <td>4</td>\n",
       "      <td>Coronapiste</td>\n",
       "      <td>E-O</td>\n",
       "      <td>4 -&gt; 2</td>\n",
       "      <td>48.858273, 2.349109</td>\n",
       "    </tr>\n",
       "  </tbody>\n",
       "</table>\n",
       "</div>"
      ],
      "text/plain": [
       "  Identifiant trajectoire  Identifiant site                      Nom du site  \\\n",
       "0            10004_2 -> 1             10004  [Paris] Rivoli x Nicolas Flamel   \n",
       "1            10004_5 -> 3             10004  [Paris] Rivoli x Nicolas Flamel   \n",
       "2            10004_5 -> 3             10004  [Paris] Rivoli x Nicolas Flamel   \n",
       "3            10004_2 -> 1             10004  [Paris] Rivoli x Nicolas Flamel   \n",
       "4            10004_4 -> 2             10004  [Paris] Rivoli x Nicolas Flamel   \n",
       "\n",
       "   Date et heure de comptage    Mode déplacement  Nombre de véhicules  \\\n",
       "0  2021-08-17T02:00:00+02:00               Vélos                    6   \n",
       "1  2021-08-17T02:00:00+02:00               Vélos                    3   \n",
       "2  2021-08-17T03:00:00+02:00  2 roues motorisées                    4   \n",
       "3  2021-08-17T04:00:00+02:00               Vélos                    5   \n",
       "4  2021-08-17T04:00:00+02:00               Vélos                    4   \n",
       "\n",
       "                      Type voie Sens de circulation Trajectoire  \\\n",
       "0                Piste cyclable                 E-O      2 -> 1   \n",
       "1  Voie de circulation générale                 E-O      5 -> 3   \n",
       "2  Voie de circulation générale                 E-O      5 -> 3   \n",
       "3                Piste cyclable                 E-O      2 -> 1   \n",
       "4                   Coronapiste                 E-O      4 -> 2   \n",
       "\n",
       "       Coordonnées Géo  \n",
       "0  48.858273, 2.349109  \n",
       "1  48.858273, 2.349109  \n",
       "2  48.858273, 2.349109  \n",
       "3  48.858273, 2.349109  \n",
       "4  48.858273, 2.349109  "
      ]
     },
     "execution_count": 207,
     "metadata": {},
     "output_type": "execute_result"
    }
   ],
   "source": [
    "df.head()"
   ]
  },
  {
   "cell_type": "code",
   "execution_count": 208,
   "metadata": {},
   "outputs": [
    {
     "name": "stdout",
     "output_type": "stream",
     "text": [
      "<class 'pandas.core.frame.DataFrame'>\n",
      "RangeIndex: 556776 entries, 0 to 556775\n",
      "Data columns (total 10 columns):\n",
      " #   Column                     Non-Null Count   Dtype \n",
      "---  ------                     --------------   ----- \n",
      " 0   Identifiant trajectoire    556776 non-null  object\n",
      " 1   Identifiant site           556776 non-null  int64 \n",
      " 2   Nom du site                553760 non-null  object\n",
      " 3   Date et heure de comptage  556776 non-null  object\n",
      " 4   Mode déplacement           556776 non-null  object\n",
      " 5   Nombre de véhicules        556776 non-null  int64 \n",
      " 6   Type voie                  553760 non-null  object\n",
      " 7   Sens de circulation        553760 non-null  object\n",
      " 8   Trajectoire                556776 non-null  object\n",
      " 9   Coordonnées Géo            553760 non-null  object\n",
      "dtypes: int64(2), object(8)\n",
      "memory usage: 42.5+ MB\n"
     ]
    }
   ],
   "source": [
    "df.info()"
   ]
  },
  {
   "cell_type": "markdown",
   "metadata": {},
   "source": [
    "## **<u>Dropping redundant columns:</u>**"
   ]
  },
  {
   "cell_type": "code",
   "execution_count": 209,
   "metadata": {},
   "outputs": [],
   "source": [
    "df = df.drop(['Identifiant trajectoire', 'Identifiant site', \n",
    "         'Nom du site', 'Coordonnées Géo',\n",
    "         'Mode déplacement', 'Sens de circulation',\n",
    "         'Trajectoire', 'Type voie'], axis=1) #'Date et heure de comptage',"
   ]
  },
  {
   "cell_type": "code",
   "execution_count": 210,
   "metadata": {},
   "outputs": [
    {
     "data": {
      "text/html": [
       "<div>\n",
       "<style scoped>\n",
       "    .dataframe tbody tr th:only-of-type {\n",
       "        vertical-align: middle;\n",
       "    }\n",
       "\n",
       "    .dataframe tbody tr th {\n",
       "        vertical-align: top;\n",
       "    }\n",
       "\n",
       "    .dataframe thead th {\n",
       "        text-align: right;\n",
       "    }\n",
       "</style>\n",
       "<table border=\"1\" class=\"dataframe\">\n",
       "  <thead>\n",
       "    <tr style=\"text-align: right;\">\n",
       "      <th></th>\n",
       "      <th>Date et heure de comptage</th>\n",
       "      <th>Nombre de véhicules</th>\n",
       "    </tr>\n",
       "  </thead>\n",
       "  <tbody>\n",
       "    <tr>\n",
       "      <th>0</th>\n",
       "      <td>2021-08-17T02:00:00+02:00</td>\n",
       "      <td>6</td>\n",
       "    </tr>\n",
       "    <tr>\n",
       "      <th>1</th>\n",
       "      <td>2021-08-17T02:00:00+02:00</td>\n",
       "      <td>3</td>\n",
       "    </tr>\n",
       "    <tr>\n",
       "      <th>2</th>\n",
       "      <td>2021-08-17T03:00:00+02:00</td>\n",
       "      <td>4</td>\n",
       "    </tr>\n",
       "    <tr>\n",
       "      <th>3</th>\n",
       "      <td>2021-08-17T04:00:00+02:00</td>\n",
       "      <td>5</td>\n",
       "    </tr>\n",
       "    <tr>\n",
       "      <th>4</th>\n",
       "      <td>2021-08-17T04:00:00+02:00</td>\n",
       "      <td>4</td>\n",
       "    </tr>\n",
       "    <tr>\n",
       "      <th>...</th>\n",
       "      <td>...</td>\n",
       "      <td>...</td>\n",
       "    </tr>\n",
       "    <tr>\n",
       "      <th>556771</th>\n",
       "      <td>2021-03-29T09:00:00+02:00</td>\n",
       "      <td>1</td>\n",
       "    </tr>\n",
       "    <tr>\n",
       "      <th>556772</th>\n",
       "      <td>2021-03-29T14:00:00+02:00</td>\n",
       "      <td>2</td>\n",
       "    </tr>\n",
       "    <tr>\n",
       "      <th>556773</th>\n",
       "      <td>2021-03-29T18:00:00+02:00</td>\n",
       "      <td>200</td>\n",
       "    </tr>\n",
       "    <tr>\n",
       "      <th>556774</th>\n",
       "      <td>2021-03-29T19:00:00+02:00</td>\n",
       "      <td>4</td>\n",
       "    </tr>\n",
       "    <tr>\n",
       "      <th>556775</th>\n",
       "      <td>2021-03-29T22:00:00+02:00</td>\n",
       "      <td>1</td>\n",
       "    </tr>\n",
       "  </tbody>\n",
       "</table>\n",
       "<p>556776 rows × 2 columns</p>\n",
       "</div>"
      ],
      "text/plain": [
       "        Date et heure de comptage  Nombre de véhicules\n",
       "0       2021-08-17T02:00:00+02:00                    6\n",
       "1       2021-08-17T02:00:00+02:00                    3\n",
       "2       2021-08-17T03:00:00+02:00                    4\n",
       "3       2021-08-17T04:00:00+02:00                    5\n",
       "4       2021-08-17T04:00:00+02:00                    4\n",
       "...                           ...                  ...\n",
       "556771  2021-03-29T09:00:00+02:00                    1\n",
       "556772  2021-03-29T14:00:00+02:00                    2\n",
       "556773  2021-03-29T18:00:00+02:00                  200\n",
       "556774  2021-03-29T19:00:00+02:00                    4\n",
       "556775  2021-03-29T22:00:00+02:00                    1\n",
       "\n",
       "[556776 rows x 2 columns]"
      ]
     },
     "execution_count": 210,
     "metadata": {},
     "output_type": "execute_result"
    }
   ],
   "source": [
    "df"
   ]
  },
  {
   "cell_type": "code",
   "execution_count": 211,
   "metadata": {},
   "outputs": [],
   "source": [
    "df['Date et heure de comptage'] = pd.to_datetime(df['Date et heure de comptage'], utc=True)"
   ]
  },
  {
   "cell_type": "code",
   "execution_count": 212,
   "metadata": {},
   "outputs": [
    {
     "data": {
      "text/html": [
       "<div>\n",
       "<style scoped>\n",
       "    .dataframe tbody tr th:only-of-type {\n",
       "        vertical-align: middle;\n",
       "    }\n",
       "\n",
       "    .dataframe tbody tr th {\n",
       "        vertical-align: top;\n",
       "    }\n",
       "\n",
       "    .dataframe thead th {\n",
       "        text-align: right;\n",
       "    }\n",
       "</style>\n",
       "<table border=\"1\" class=\"dataframe\">\n",
       "  <thead>\n",
       "    <tr style=\"text-align: right;\">\n",
       "      <th></th>\n",
       "      <th>Date et heure de comptage</th>\n",
       "      <th>Nombre de véhicules</th>\n",
       "    </tr>\n",
       "  </thead>\n",
       "  <tbody>\n",
       "    <tr>\n",
       "      <th>0</th>\n",
       "      <td>2021-08-17 00:00:00+00:00</td>\n",
       "      <td>6</td>\n",
       "    </tr>\n",
       "    <tr>\n",
       "      <th>1</th>\n",
       "      <td>2021-08-17 00:00:00+00:00</td>\n",
       "      <td>3</td>\n",
       "    </tr>\n",
       "    <tr>\n",
       "      <th>2</th>\n",
       "      <td>2021-08-17 01:00:00+00:00</td>\n",
       "      <td>4</td>\n",
       "    </tr>\n",
       "    <tr>\n",
       "      <th>3</th>\n",
       "      <td>2021-08-17 02:00:00+00:00</td>\n",
       "      <td>5</td>\n",
       "    </tr>\n",
       "    <tr>\n",
       "      <th>4</th>\n",
       "      <td>2021-08-17 02:00:00+00:00</td>\n",
       "      <td>4</td>\n",
       "    </tr>\n",
       "    <tr>\n",
       "      <th>...</th>\n",
       "      <td>...</td>\n",
       "      <td>...</td>\n",
       "    </tr>\n",
       "    <tr>\n",
       "      <th>556771</th>\n",
       "      <td>2021-03-29 07:00:00+00:00</td>\n",
       "      <td>1</td>\n",
       "    </tr>\n",
       "    <tr>\n",
       "      <th>556772</th>\n",
       "      <td>2021-03-29 12:00:00+00:00</td>\n",
       "      <td>2</td>\n",
       "    </tr>\n",
       "    <tr>\n",
       "      <th>556773</th>\n",
       "      <td>2021-03-29 16:00:00+00:00</td>\n",
       "      <td>200</td>\n",
       "    </tr>\n",
       "    <tr>\n",
       "      <th>556774</th>\n",
       "      <td>2021-03-29 17:00:00+00:00</td>\n",
       "      <td>4</td>\n",
       "    </tr>\n",
       "    <tr>\n",
       "      <th>556775</th>\n",
       "      <td>2021-03-29 20:00:00+00:00</td>\n",
       "      <td>1</td>\n",
       "    </tr>\n",
       "  </tbody>\n",
       "</table>\n",
       "<p>556776 rows × 2 columns</p>\n",
       "</div>"
      ],
      "text/plain": [
       "       Date et heure de comptage  Nombre de véhicules\n",
       "0      2021-08-17 00:00:00+00:00                    6\n",
       "1      2021-08-17 00:00:00+00:00                    3\n",
       "2      2021-08-17 01:00:00+00:00                    4\n",
       "3      2021-08-17 02:00:00+00:00                    5\n",
       "4      2021-08-17 02:00:00+00:00                    4\n",
       "...                          ...                  ...\n",
       "556771 2021-03-29 07:00:00+00:00                    1\n",
       "556772 2021-03-29 12:00:00+00:00                    2\n",
       "556773 2021-03-29 16:00:00+00:00                  200\n",
       "556774 2021-03-29 17:00:00+00:00                    4\n",
       "556775 2021-03-29 20:00:00+00:00                    1\n",
       "\n",
       "[556776 rows x 2 columns]"
      ]
     },
     "execution_count": 212,
     "metadata": {},
     "output_type": "execute_result"
    }
   ],
   "source": [
    "df"
   ]
  },
  {
   "cell_type": "code",
   "execution_count": 213,
   "metadata": {},
   "outputs": [],
   "source": [
    "df = df.groupby('Date et heure de comptage', as_index=False)['Nombre de véhicules'].sum()\n",
    "df = df.rename(columns={'Date et heure de comptage': 'date', 'Nombre de véhicules': 'total_traffic'})\n",
    "\n",
    "df['date'] = df['date'].dt.tz_convert(None) # removing the time zone lement of the date for the merge later on"
   ]
  },
  {
   "cell_type": "code",
   "execution_count": 214,
   "metadata": {},
   "outputs": [
    {
     "data": {
      "text/plain": [
       "(8951, 2)"
      ]
     },
     "execution_count": 214,
     "metadata": {},
     "output_type": "execute_result"
    }
   ],
   "source": [
    "df.shape"
   ]
  },
  {
   "cell_type": "code",
   "execution_count": 215,
   "metadata": {},
   "outputs": [
    {
     "data": {
      "text/html": [
       "<div>\n",
       "<style scoped>\n",
       "    .dataframe tbody tr th:only-of-type {\n",
       "        vertical-align: middle;\n",
       "    }\n",
       "\n",
       "    .dataframe tbody tr th {\n",
       "        vertical-align: top;\n",
       "    }\n",
       "\n",
       "    .dataframe thead th {\n",
       "        text-align: right;\n",
       "    }\n",
       "</style>\n",
       "<table border=\"1\" class=\"dataframe\">\n",
       "  <thead>\n",
       "    <tr style=\"text-align: right;\">\n",
       "      <th></th>\n",
       "      <th>date</th>\n",
       "      <th>total_traffic</th>\n",
       "    </tr>\n",
       "  </thead>\n",
       "  <tbody>\n",
       "    <tr>\n",
       "      <th>0</th>\n",
       "      <td>2020-08-31 21:00:00</td>\n",
       "      <td>654</td>\n",
       "    </tr>\n",
       "    <tr>\n",
       "      <th>1</th>\n",
       "      <td>2020-08-31 22:00:00</td>\n",
       "      <td>492</td>\n",
       "    </tr>\n",
       "    <tr>\n",
       "      <th>2</th>\n",
       "      <td>2020-08-31 23:00:00</td>\n",
       "      <td>293</td>\n",
       "    </tr>\n",
       "    <tr>\n",
       "      <th>3</th>\n",
       "      <td>2020-09-01 00:00:00</td>\n",
       "      <td>185</td>\n",
       "    </tr>\n",
       "    <tr>\n",
       "      <th>4</th>\n",
       "      <td>2020-09-01 01:00:00</td>\n",
       "      <td>116</td>\n",
       "    </tr>\n",
       "  </tbody>\n",
       "</table>\n",
       "</div>"
      ],
      "text/plain": [
       "                 date  total_traffic\n",
       "0 2020-08-31 21:00:00            654\n",
       "1 2020-08-31 22:00:00            492\n",
       "2 2020-08-31 23:00:00            293\n",
       "3 2020-09-01 00:00:00            185\n",
       "4 2020-09-01 01:00:00            116"
      ]
     },
     "execution_count": 215,
     "metadata": {},
     "output_type": "execute_result"
    }
   ],
   "source": [
    "df.head()"
   ]
  },
  {
   "cell_type": "markdown",
   "metadata": {},
   "source": [
    "## **<u>Dropping the first three rows that don't belong to the desired date range:</u>**"
   ]
  },
  {
   "cell_type": "code",
   "execution_count": 217,
   "metadata": {},
   "outputs": [],
   "source": [
    "df = df.drop([0,1,2], axis=0).reset_index()\n",
    "df = df.drop('index', axis=1)"
   ]
  },
  {
   "cell_type": "code",
   "execution_count": 221,
   "metadata": {},
   "outputs": [
    {
     "data": {
      "text/html": [
       "<div>\n",
       "<style scoped>\n",
       "    .dataframe tbody tr th:only-of-type {\n",
       "        vertical-align: middle;\n",
       "    }\n",
       "\n",
       "    .dataframe tbody tr th {\n",
       "        vertical-align: top;\n",
       "    }\n",
       "\n",
       "    .dataframe thead th {\n",
       "        text-align: right;\n",
       "    }\n",
       "</style>\n",
       "<table border=\"1\" class=\"dataframe\">\n",
       "  <thead>\n",
       "    <tr style=\"text-align: right;\">\n",
       "      <th></th>\n",
       "      <th>date</th>\n",
       "      <th>total_traffic</th>\n",
       "    </tr>\n",
       "  </thead>\n",
       "  <tbody>\n",
       "    <tr>\n",
       "      <th>0</th>\n",
       "      <td>2020-09-01 00:00:00</td>\n",
       "      <td>185</td>\n",
       "    </tr>\n",
       "    <tr>\n",
       "      <th>1</th>\n",
       "      <td>2020-09-01 01:00:00</td>\n",
       "      <td>116</td>\n",
       "    </tr>\n",
       "    <tr>\n",
       "      <th>2</th>\n",
       "      <td>2020-09-01 02:00:00</td>\n",
       "      <td>104</td>\n",
       "    </tr>\n",
       "    <tr>\n",
       "      <th>3</th>\n",
       "      <td>2020-09-01 03:00:00</td>\n",
       "      <td>210</td>\n",
       "    </tr>\n",
       "    <tr>\n",
       "      <th>4</th>\n",
       "      <td>2020-09-01 04:00:00</td>\n",
       "      <td>408</td>\n",
       "    </tr>\n",
       "    <tr>\n",
       "      <th>...</th>\n",
       "      <td>...</td>\n",
       "      <td>...</td>\n",
       "    </tr>\n",
       "    <tr>\n",
       "      <th>8943</th>\n",
       "      <td>2021-09-09 16:00:00</td>\n",
       "      <td>14255</td>\n",
       "    </tr>\n",
       "    <tr>\n",
       "      <th>8944</th>\n",
       "      <td>2021-09-09 17:00:00</td>\n",
       "      <td>13251</td>\n",
       "    </tr>\n",
       "    <tr>\n",
       "      <th>8945</th>\n",
       "      <td>2021-09-09 18:00:00</td>\n",
       "      <td>10223</td>\n",
       "    </tr>\n",
       "    <tr>\n",
       "      <th>8946</th>\n",
       "      <td>2021-09-09 19:00:00</td>\n",
       "      <td>7508</td>\n",
       "    </tr>\n",
       "    <tr>\n",
       "      <th>8947</th>\n",
       "      <td>2021-09-09 20:00:00</td>\n",
       "      <td>6798</td>\n",
       "    </tr>\n",
       "  </tbody>\n",
       "</table>\n",
       "<p>8948 rows × 2 columns</p>\n",
       "</div>"
      ],
      "text/plain": [
       "                    date  total_traffic\n",
       "0    2020-09-01 00:00:00            185\n",
       "1    2020-09-01 01:00:00            116\n",
       "2    2020-09-01 02:00:00            104\n",
       "3    2020-09-01 03:00:00            210\n",
       "4    2020-09-01 04:00:00            408\n",
       "...                  ...            ...\n",
       "8943 2021-09-09 16:00:00          14255\n",
       "8944 2021-09-09 17:00:00          13251\n",
       "8945 2021-09-09 18:00:00          10223\n",
       "8946 2021-09-09 19:00:00           7508\n",
       "8947 2021-09-09 20:00:00           6798\n",
       "\n",
       "[8948 rows x 2 columns]"
      ]
     },
     "execution_count": 221,
     "metadata": {},
     "output_type": "execute_result"
    }
   ],
   "source": [
    "df"
   ]
  },
  {
   "cell_type": "code",
   "execution_count": 219,
   "metadata": {},
   "outputs": [],
   "source": [
    "df.to_csv(\"total_traffic_v1.csv\", index=False)"
   ]
  }
 ],
 "metadata": {
  "kernelspec": {
   "display_name": "base",
   "language": "python",
   "name": "python3"
  },
  "language_info": {
   "codemirror_mode": {
    "name": "ipython",
    "version": 3
   },
   "file_extension": ".py",
   "mimetype": "text/x-python",
   "name": "python",
   "nbconvert_exporter": "python",
   "pygments_lexer": "ipython3",
   "version": "3.11.4"
  }
 },
 "nbformat": 4,
 "nbformat_minor": 2
}
